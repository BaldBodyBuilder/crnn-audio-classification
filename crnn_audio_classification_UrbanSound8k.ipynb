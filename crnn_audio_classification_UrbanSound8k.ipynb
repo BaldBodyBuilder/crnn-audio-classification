{
 "cells": [
  {
   "cell_type": "code",
   "execution_count": 1,
   "metadata": {
    "colab": {
     "base_uri": "https://localhost:8080/",
     "height": 136
    },
    "colab_type": "code",
    "id": "e_cuSIyezXEp",
    "outputId": "b694fb03-5c0b-4951-fe8f-13cf2a0f4c25"
   },
   "outputs": [
    {
     "name": "stdout",
     "output_type": "stream",
     "text": [
      "Cloning into 'crnn-audio-classification'...\n",
      "remote: Enumerating objects: 127, done.\u001b[K\n",
      "remote: Counting objects: 100% (127/127), done.\u001b[K\n",
      "remote: Compressing objects: 100% (87/87), done.\u001b[K\n",
      "remote: Total 127 (delta 63), reused 101 (delta 37), pack-reused 0\u001b[K\n",
      "Receiving objects: 100% (127/127), 3.55 MiB | 0 bytes/s, done.\n",
      "Resolving deltas: 100% (63/63), done.\n"
     ]
    }
   ],
   "source": [
    "!git clone https://github.com/ksanjeevan/crnn-audio-classification.git"
   ]
  },
  {
   "cell_type": "code",
   "execution_count": 2,
   "metadata": {
    "colab": {
     "base_uri": "https://localhost:8080/",
     "height": 204
    },
    "colab_type": "code",
    "id": "utIhHHd83zGS",
    "outputId": "ad1d5444-3d27-4c45-8780-ab69c9f384cf"
   },
   "outputs": [
    {
     "name": "stdout",
     "output_type": "stream",
     "text": [
      "Cloning into 'torchaudio-contrib'...\n",
      "remote: Enumerating objects: 54, done.\u001b[K\n",
      "remote: Counting objects: 100% (54/54), done.\u001b[K\n",
      "remote: Compressing objects: 100% (33/33), done.\u001b[K\n",
      "remote: Total 209 (delta 22), reused 34 (delta 11), pack-reused 155\u001b[K\n",
      "Receiving objects: 100% (209/209), 1.89 MiB | 0 bytes/s, done.\n",
      "Resolving deltas: 100% (99/99), done.\n",
      "Obtaining file:///home/jupyter/crnn-audio-classification%20-%20UrbanSound8k/torchaudio-contrib\n",
      "Requirement already satisfied: torch in /opt/anaconda3/lib/python3.7/site-packages (from torchaudio-contrib==0.1) (1.0.1.post2)\n",
      "Installing collected packages: torchaudio-contrib\n",
      "  Running setup.py develop for torchaudio-contrib\n",
      "Successfully installed torchaudio-contrib\n"
     ]
    }
   ],
   "source": [
    "!git clone https://github.com/keunwoochoi/torchaudio-contrib\n",
    "!pip install -e torchaudio-contrib"
   ]
  },
  {
   "cell_type": "code",
   "execution_count": 3,
   "metadata": {
    "colab": {},
    "colab_type": "code",
    "id": "3IoVML3kzYmV"
   },
   "outputs": [],
   "source": [
    "!cp -r crnn-audio-classification/* ."
   ]
  },
  {
   "cell_type": "code",
   "execution_count": 13,
   "metadata": {
    "colab": {
     "base_uri": "https://localhost:8080/",
     "height": 411
    },
    "colab_type": "code",
    "id": "fVx3QyvN2b4s",
    "outputId": "f2b3e674-d72f-474f-9f0f-41047c57a68e"
   },
   "outputs": [
    {
     "name": "stdout",
     "output_type": "stream",
     "text": [
      "Requirement already satisfied: SoundFile in /opt/anaconda3/lib/python3.7/site-packages (0.10.2)\n",
      "Requirement already satisfied: cffi>=1.0 in /opt/anaconda3/lib/python3.7/site-packages (from SoundFile) (1.11.5)\n",
      "Requirement already satisfied: pycparser in /opt/anaconda3/lib/python3.7/site-packages (from cffi>=1.0->SoundFile) (2.19)\n",
      "Collecting git+https://github.com/ksanjeevan/torchparse.git\n",
      "  Cloning https://github.com/ksanjeevan/torchparse.git to /tmp/pip-req-build-cxyj2nui\n",
      "Requirement already satisfied (use --upgrade to upgrade): torchparse==0.1 from git+https://github.com/ksanjeevan/torchparse.git in /opt/anaconda3/lib/python3.7/site-packages\n",
      "Requirement already satisfied: numpy>=1.16.2 in /opt/anaconda3/lib/python3.7/site-packages (from torchparse==0.1) (1.16.3)\n",
      "Requirement already satisfied: torch>=1.0 in /opt/anaconda3/lib/python3.7/site-packages (from torchparse==0.1) (1.0.1.post2)\n",
      "Building wheels for collected packages: torchparse\n",
      "  Running setup.py bdist_wheel for torchparse ... \u001b[?25ldone\n",
      "\u001b[?25h  Stored in directory: /tmp/pip-ephem-wheel-cache-pndy0yu8/wheels/53/64/f2/c60bf851fcf5d5363538889a115dd68d728474bbc22ef7d280\n",
      "Successfully built torchparse\n",
      "Requirement already satisfied: tensorboardX in /opt/anaconda3/lib/python3.7/site-packages (1.6)\n",
      "Requirement already satisfied: six in /opt/anaconda3/lib/python3.7/site-packages (from tensorboardX) (1.12.0)\n",
      "Requirement already satisfied: protobuf>=3.2.0 in /opt/anaconda3/lib/python3.7/site-packages (from tensorboardX) (3.7.1)\n",
      "Requirement already satisfied: numpy in /opt/anaconda3/lib/python3.7/site-packages (from tensorboardX) (1.16.3)\n",
      "Requirement already satisfied: setuptools in /opt/anaconda3/lib/python3.7/site-packages (from protobuf>=3.2.0->tensorboardX) (40.6.3)\n",
      "Collecting pysoundfile\n",
      "  Downloading https://files.pythonhosted.org/packages/2a/b3/0b871e5fd31b9a8e54b4ee359384e705a1ca1e2870706d2f081dc7cc1693/PySoundFile-0.9.0.post1-py2.py3-none-any.whl\n",
      "Requirement already satisfied: cffi>=0.6 in /opt/anaconda3/lib/python3.7/site-packages (from pysoundfile) (1.11.5)\n",
      "Requirement already satisfied: pycparser in /opt/anaconda3/lib/python3.7/site-packages (from cffi>=0.6->pysoundfile) (2.19)\n",
      "Installing collected packages: pysoundfile\n",
      "Successfully installed pysoundfile-0.9.0.post1\n"
     ]
    }
   ],
   "source": [
    "!pip install SoundFile\n",
    "!pip install git+https://github.com/ksanjeevan/torchparse.git\n",
    "!pip install tensorboardX\n",
    "!pip install tensorboard\n",
    "!pip install tensorflow"
   ]
  },
  {
   "cell_type": "code",
   "execution_count": null,
   "metadata": {
    "colab": {
     "base_uri": "https://localhost:8080/",
     "height": 289
    },
    "colab_type": "code",
    "id": "mDILa9uqDOrV",
    "outputId": "b5961199-dead-4e2f-f1c5-b91acb914015"
   },
   "outputs": [],
   "source": [
    "!wget https://goo.gl/8hY5ER\n",
    "!tar -zxvf 8hY5ER\n",
    "!rm -f 8hY5ER"
   ]
  },
  {
   "cell_type": "code",
   "execution_count": 2,
   "metadata": {
    "colab": {},
    "colab_type": "code",
    "id": "7rJflAUKC4kU"
   },
   "outputs": [],
   "source": [
    "json_config = {\n",
    "    \"name\"          :   \"Urban Testing\",\n",
    "    \"data\"          :   {\n",
    "                            \"type\"      :   \"CSVDataManager\",\n",
    "                            \"path\"      :   \"UrbanSound8K\",\n",
    "                            \"format\"    :   \"audio\",\n",
    "                            \"loader\"    :   {\n",
    "                                                \"shuffle\"       : True,\n",
    "                                                \"batch_size\"    : 24,\n",
    "                                                \"num_workers\"   : 4,\n",
    "                                                \"drop_last\"     : True\n",
    "                                            },\n",
    "                            \"splits\"    :   {\n",
    "                                                \"train\" : [1,2,3,4,5,6,7,8,9], \n",
    "                                                \"val\"   : [10]                                            \n",
    "                                            }\n",
    "                        },\n",
    "    \"transforms\"    :   {\n",
    "                            \"type\"      :   \"AudioTransforms\",\n",
    "                            \"args\"      :   {\n",
    "                                                \"channels\"       : \"avg\",\n",
    "                                                \"noise\"    : [0.3, 0.001],\n",
    "                                                \"crop\"     : [0.4, 0.25]\n",
    "                                            }\n",
    "                        },\n",
    "    \"optimizer\"     :   {\n",
    "                            \"type\"      :   \"Adam\",\n",
    "                            \"args\"      :   {\n",
    "                                                \"lr\"            : 0.002,\n",
    "                                                \"weight_decay\"  : 0.01,\n",
    "                                                \"amsgrad\"       : True\n",
    "                                            }\n",
    "                        },\n",
    "    \"lr_scheduler\"   :   {\n",
    "                            \"type\"      :   \"StepLR\",\n",
    "                            \"args\"      :   {\n",
    "                                                \"step_size\" : 10,\n",
    "                                                \"gamma\"     : 0.5\n",
    "                                            }\n",
    "                        },\n",
    "    \"model\"         :   {\n",
    "                            \"type\"      :   \"AudioCRNN\"\n",
    "                        },\n",
    "    \"train\"         :   {\n",
    "                            \"loss\"      :   \"nll_loss\",\n",
    "                            \"epochs\"    :   10,\n",
    "                            \"save_dir\"  :   \"saved_cv/\",\n",
    "                            \"save_p\"    :   1,\n",
    "                            \"verbosity\" :   2,\n",
    "                            \n",
    "                            \"monitor\"   :   \"min val_loss\",\n",
    "                            \"early_stop\":   8,\n",
    "                            \"tbX\"       :   True\n",
    "                        },\n",
    "    \"metrics\"       :   \"classification_metrics\"\n",
    "\n",
    "}"
   ]
  },
  {
   "cell_type": "code",
   "execution_count": 3,
   "metadata": {
    "colab": {},
    "colab_type": "code",
    "id": "9Y43AjFuF9Yf"
   },
   "outputs": [],
   "source": [
    "import json\n",
    "with open('my-config.json', 'w') as json_file:  \n",
    "  json.dump(json_config, json_file)"
   ]
  },
  {
   "cell_type": "code",
   "execution_count": 4,
   "metadata": {
    "colab": {
     "base_uri": "https://localhost:8080/",
     "height": 272
    },
    "colab_type": "code",
    "id": "GZ5AVLf5zjv6",
    "outputId": "8605180e-767a-4323-8b1d-49c771e946ca"
   },
   "outputs": [
    {
     "name": "stdout",
     "output_type": "stream",
     "text": [
      "Compose(\n",
      "    ProcessChannels(mode=avg)\n",
      "    AdditiveNoise(prob=0.3, sig=0.001, dist_type=normal)\n",
      "    RandomCropLength(prob=0.4, sig=0.25, dist_type=half)\n",
      "    ToTensorAudio()\n",
      ")\n",
      "AudioCRNN(\n",
      "  (spec): MelspectrogramStretch(num_bands=128, fft_len=2048, norm=spec_whiten, stretch_param=[0.4, 0.4])\n",
      "  (net): ModuleDict(\n",
      "    (convs): Sequential(\n",
      "      (conv2d_0): Conv2d(1, 32, kernel_size=(3, 3), stride=(1, 1), padding=[0, 0])\n",
      "      (batchnorm2d_0): BatchNorm2d(32, eps=1e-05, momentum=0.1, affine=True, track_running_stats=True)\n",
      "      (elu_0): ELU(alpha=1.0)\n",
      "      (maxpool2d_0): MaxPool2d(kernel_size=3, stride=3, padding=0, dilation=1, ceil_mode=False)\n",
      "      (dropout_0): Dropout(p=0.1)\n",
      "      (conv2d_1): Conv2d(32, 64, kernel_size=(3, 3), stride=(1, 1), padding=[0, 0])\n",
      "      (batchnorm2d_1): BatchNorm2d(64, eps=1e-05, momentum=0.1, affine=True, track_running_stats=True)\n",
      "      (elu_1): ELU(alpha=1.0)\n",
      "      (maxpool2d_1): MaxPool2d(kernel_size=4, stride=4, padding=0, dilation=1, ceil_mode=False)\n",
      "      (dropout_1): Dropout(p=0.1)\n",
      "      (conv2d_2): Conv2d(64, 64, kernel_size=(3, 3), stride=(1, 1), padding=[0, 0])\n",
      "      (batchnorm2d_2): BatchNorm2d(64, eps=1e-05, momentum=0.1, affine=True, track_running_stats=True)\n",
      "      (elu_2): ELU(alpha=1.0)\n",
      "      (maxpool2d_2): MaxPool2d(kernel_size=4, stride=4, padding=0, dilation=1, ceil_mode=False)\n",
      "      (dropout_2): Dropout(p=0.1)\n",
      "    )\n",
      "    (recur): LSTM(128, 64, num_layers=2, bidirectional=True)\n",
      "    (dense): Sequential(\n",
      "      (dropout_3): Dropout(p=0.3)\n",
      "      (batchnorm1d_0): BatchNorm1d(128, eps=1e-05, momentum=0.1, affine=True, track_running_stats=True)\n",
      "      (linear_0): Linear(in_features=128, out_features=10, bias=True)\n",
      "    )\n",
      "  )\n",
      ")\n",
      "Trainable parameters: 256266\n",
      "Train Epoch: 1 Loss: 0.971214: 100%|██████████| 311/311 [01:24<00:00,  5.21it/s]\n",
      "                           \n",
      "accuracy           0.530145\n",
      "avg_precision      0.462156\n",
      "avg_recall         0.471693\n",
      "loss               1.371477\n",
      "val_accuracy       0.632353\n",
      "val_avg_precision  0.552066\n",
      "val_avg_recall     0.555697\n",
      "val_loss           1.113630\n",
      "lr_0: 0.002\n",
      "\n",
      "Run TensorboardX:\n",
      "tensorboard --logdir=saved_cv/0515_171217/logs\n",
      "\n",
      "Saving checkpoint: saved_cv/0515_171217/checkpoints/checkpoint-current.pth ...\n",
      "Saving current best: model_best.pth ...\n",
      "[IMPROVED]\n",
      "Train Epoch: 2 Loss: 1.177228: 100%|██████████| 311/311 [01:13<00:00,  3.83it/s]\n",
      "                           \n",
      "accuracy           0.629287\n",
      "avg_precision      0.569680\n",
      "avg_recall         0.568744\n",
      "loss               1.101233\n",
      "val_accuracy       0.613971\n",
      "val_avg_precision  0.538491\n",
      "val_avg_recall     0.540812\n",
      "val_loss           1.077812\n",
      "lr_0: 0.002\n",
      "\n",
      "Run TensorboardX:\n",
      "tensorboard --logdir=saved_cv/0515_171217/logs\n",
      "\n",
      "Saving checkpoint: saved_cv/0515_171217/checkpoints/checkpoint-current.pth ...\n",
      "Saving current best: model_best.pth ...\n",
      "[IMPROVED]\n",
      "Train Epoch: 3 Loss: 0.766772: 100%|██████████| 311/311 [01:11<00:00,  5.01it/s]\n",
      "                           \n",
      "accuracy           0.680734\n",
      "avg_precision      0.613631\n",
      "avg_recall         0.612585\n",
      "loss               0.956393\n",
      "val_accuracy       0.653186\n",
      "val_avg_precision  0.570656\n",
      "val_avg_recall     0.567143\n",
      "val_loss           1.242622\n",
      "lr_0: 0.002\n",
      "\n",
      "Run TensorboardX:\n",
      "tensorboard --logdir=saved_cv/0515_171217/logs\n",
      "\n",
      "Saving checkpoint: saved_cv/0515_171217/checkpoints/checkpoint-current.pth ...\n",
      "Train Epoch: 4 Loss: 0.742291: 100%|██████████| 311/311 [01:15<00:00,  2.51it/s]\n",
      "                           \n",
      "accuracy           0.708065\n",
      "avg_precision      0.637479\n",
      "avg_recall         0.641066\n",
      "loss               0.900179\n",
      "val_accuracy       0.685049\n",
      "val_avg_precision  0.593889\n",
      "val_avg_recall     0.612815\n",
      "val_loss           1.086024\n",
      "lr_0: 0.002\n",
      "\n",
      "Run TensorboardX:\n",
      "tensorboard --logdir=saved_cv/0515_171217/logs\n",
      "\n",
      "Saving checkpoint: saved_cv/0515_171217/checkpoints/checkpoint-current.pth ...\n",
      "Train Epoch: 5 Loss: 1.105784: 100%|██████████| 311/311 [01:11<00:00,  3.40it/s]\n",
      "                           \n",
      "accuracy           0.722669\n",
      "avg_precision      0.646632\n",
      "avg_recall         0.645035\n",
      "loss               0.844831\n",
      "val_accuracy       0.650735\n",
      "val_avg_precision  0.566939\n",
      "val_avg_recall     0.570277\n",
      "val_loss           1.171147\n",
      "lr_0: 0.002\n",
      "\n",
      "Run TensorboardX:\n",
      "tensorboard --logdir=saved_cv/0515_171217/logs\n",
      "\n",
      "Saving checkpoint: saved_cv/0515_171217/checkpoints/checkpoint-current.pth ...\n",
      "Train Epoch: 6 Loss: 0.642616: 100%|██████████| 311/311 [01:16<00:00,  4.22it/s]\n",
      "                           \n",
      "accuracy           0.736602\n",
      "avg_precision      0.663881\n",
      "avg_recall         0.662456\n",
      "loss               0.815632\n",
      "val_accuracy       0.714461\n",
      "val_avg_precision  0.632073\n",
      "val_avg_recall     0.638831\n",
      "val_loss           0.970008\n",
      "lr_0: 0.002\n",
      "\n",
      "Run TensorboardX:\n",
      "tensorboard --logdir=saved_cv/0515_171217/logs\n",
      "\n",
      "Saving checkpoint: saved_cv/0515_171217/checkpoints/checkpoint-current.pth ...\n",
      "Saving current best: model_best.pth ...\n",
      "[IMPROVED]\n",
      "Train Epoch: 7 Loss: 0.748012: 100%|██████████| 311/311 [01:15<00:00,  4.83it/s]\n",
      "                           \n",
      "accuracy           0.741024\n",
      "avg_precision      0.665531\n",
      "avg_recall         0.665359\n",
      "loss               0.800983\n",
      "val_accuracy       0.736520\n",
      "val_avg_precision  0.657686\n",
      "val_avg_recall     0.639811\n",
      "val_loss           0.914300\n",
      "lr_0: 0.002\n",
      "\n",
      "Run TensorboardX:\n",
      "tensorboard --logdir=saved_cv/0515_171217/logs\n",
      "\n",
      "Saving checkpoint: saved_cv/0515_171217/checkpoints/checkpoint-current.pth ...\n",
      "Saving current best: model_best.pth ...\n",
      "[IMPROVED]\n",
      "Train Epoch: 8 Loss: 0.880996: 100%|██████████| 311/311 [01:15<00:00,  3.58it/s]\n",
      "                           \n",
      "accuracy           0.754153\n",
      "avg_precision      0.671649\n",
      "avg_recall         0.670911\n",
      "loss               0.766359\n",
      "val_accuracy       0.735294\n",
      "val_avg_precision  0.643039\n",
      "val_avg_recall     0.655816\n",
      "val_loss           0.884678\n",
      "lr_0: 0.002\n",
      "\n",
      "Run TensorboardX:\n",
      "tensorboard --logdir=saved_cv/0515_171217/logs\n",
      "\n",
      "Saving checkpoint: saved_cv/0515_171217/checkpoints/checkpoint-current.pth ...\n",
      "Saving current best: model_best.pth ...\n",
      "[IMPROVED]\n",
      "Train Epoch: 9 Loss: 0.715860: 100%|██████████| 311/311 [01:16<00:00,  3.89it/s]\n",
      "                           \n",
      "accuracy           0.764469\n",
      "avg_precision      0.683548\n",
      "avg_recall         0.684513\n",
      "loss               0.747726\n",
      "val_accuracy       0.748775\n",
      "val_avg_precision  0.667395\n",
      "val_avg_recall     0.666089\n",
      "val_loss           0.810400\n",
      "lr_0: 0.002\n",
      "\n",
      "Run TensorboardX:\n",
      "tensorboard --logdir=saved_cv/0515_171217/logs\n",
      "\n",
      "Saving checkpoint: saved_cv/0515_171217/checkpoints/checkpoint-current.pth ...\n",
      "Saving current best: model_best.pth ...\n",
      "[IMPROVED]\n",
      "Train Epoch: 10 Loss: 0.640521: 100%|█████████| 311/311 [01:13<00:00,  3.90it/s]\n",
      "                           \n",
      "accuracy           0.766747\n",
      "avg_precision      0.682201\n",
      "avg_recall         0.682364\n",
      "loss               0.739293\n",
      "val_accuracy       0.699755\n",
      "val_avg_precision  0.641695\n",
      "val_avg_recall     0.631148\n",
      "val_loss           1.009695\n",
      "lr_0: 0.002\n",
      "\n",
      "Run TensorboardX:\n",
      "tensorboard --logdir=saved_cv/0515_171217/logs\n",
      "\n",
      "Saving checkpoint: saved_cv/0515_171217/checkpoints/checkpoint-current.pth ...\n"
     ]
    }
   ],
   "source": [
    "!python run.py train -c my-config.json --cfg crnn.cfg"
   ]
  },
  {
   "cell_type": "code",
   "execution_count": 15,
   "metadata": {
    "colab": {
     "base_uri": "https://localhost:8080/",
     "height": 34
    },
    "colab_type": "code",
    "id": "9H0Naj2rzq4K",
    "outputId": "a63019bc-67d5-4fd9-d8df-7d8212f7acad"
   },
   "outputs": [
    {
     "name": "stdout",
     "output_type": "stream",
     "text": [
      "dog_bark 0.9858338236808777\n"
     ]
    }
   ],
   "source": [
    "!python run.py UrbanSound8K/audio/fold10/100795-3-0-0.wav -r saved_cv/0515_171217/checkpoints/model_best.pth"
   ]
  },
  {
   "cell_type": "code",
   "execution_count": 10,
   "metadata": {},
   "outputs": [
    {
     "name": "stdout",
     "output_type": "stream",
     "text": [
      "TensorBoard 1.13.1 at http://my-fastai-instance:6006 (Press CTRL+C to quit)\n",
      "^C\n"
     ]
    }
   ],
   "source": [
    "!tensorboard --logdir=saved_cv/0515_171217/logs"
   ]
  },
  {
   "cell_type": "code",
   "execution_count": 9,
   "metadata": {
    "colab": {},
    "colab_type": "code",
    "id": "j7wSVV_L9VSC"
   },
   "outputs": [
    {
     "name": "stdout",
     "output_type": "stream",
     "text": [
      "Collecting tensorflow\n",
      "\u001b[?25l  Downloading https://files.pythonhosted.org/packages/d4/29/6b4f1e02417c3a1ccc85380f093556ffd0b35dc354078074c5195c8447f2/tensorflow-1.13.1-cp37-cp37m-manylinux1_x86_64.whl (92.6MB)\n",
      "\u001b[K    100% |████████████████████████████████| 92.6MB 356kB/s \n",
      "\u001b[?25hCollecting keras-applications>=1.0.6 (from tensorflow)\n",
      "\u001b[?25l  Downloading https://files.pythonhosted.org/packages/90/85/64c82949765cfb246bbdaf5aca2d55f400f792655927a017710a78445def/Keras_Applications-1.0.7-py2.py3-none-any.whl (51kB)\n",
      "\u001b[K    100% |████████████████████████████████| 61kB 33.4MB/s \n",
      "\u001b[?25hCollecting keras-preprocessing>=1.0.5 (from tensorflow)\n",
      "\u001b[?25l  Downloading https://files.pythonhosted.org/packages/c0/bf/0315ef6a9fd3fc2346e85b0ff1f5f83ca17073f2c31ac719ab2e4da0d4a3/Keras_Preprocessing-1.0.9-py2.py3-none-any.whl (59kB)\n",
      "\u001b[K    100% |████████████████████████████████| 61kB 35.8MB/s \n",
      "\u001b[?25hRequirement already satisfied: six>=1.10.0 in /opt/anaconda3/lib/python3.7/site-packages (from tensorflow) (1.12.0)\n",
      "Requirement already satisfied: grpcio>=1.8.6 in /opt/anaconda3/lib/python3.7/site-packages (from tensorflow) (1.20.0)\n",
      "Collecting termcolor>=1.1.0 (from tensorflow)\n",
      "  Downloading https://files.pythonhosted.org/packages/8a/48/a76be51647d0eb9f10e2a4511bf3ffb8cc1e6b14e9e4fab46173aa79f981/termcolor-1.1.0.tar.gz\n",
      "Collecting astor>=0.6.0 (from tensorflow)\n",
      "  Downloading https://files.pythonhosted.org/packages/35/6b/11530768cac581a12952a2aad00e1526b89d242d0b9f59534ef6e6a1752f/astor-0.7.1-py2.py3-none-any.whl\n",
      "Requirement already satisfied: protobuf>=3.6.1 in /opt/anaconda3/lib/python3.7/site-packages (from tensorflow) (3.7.1)\n",
      "Collecting tensorflow-estimator<1.14.0rc0,>=1.13.0 (from tensorflow)\n",
      "\u001b[?25l  Downloading https://files.pythonhosted.org/packages/bb/48/13f49fc3fa0fdf916aa1419013bb8f2ad09674c275b4046d5ee669a46873/tensorflow_estimator-1.13.0-py2.py3-none-any.whl (367kB)\n",
      "\u001b[K    100% |████████████████████████████████| 368kB 43.6MB/s \n",
      "\u001b[?25hRequirement already satisfied: wheel>=0.26 in /opt/anaconda3/lib/python3.7/site-packages (from tensorflow) (0.32.3)\n",
      "Requirement already satisfied: absl-py>=0.1.6 in /opt/anaconda3/lib/python3.7/site-packages (from tensorflow) (0.7.1)\n",
      "Requirement already satisfied: tensorboard<1.14.0,>=1.13.0 in /opt/anaconda3/lib/python3.7/site-packages (from tensorflow) (1.13.1)\n",
      "Collecting gast>=0.2.0 (from tensorflow)\n",
      "  Downloading https://files.pythonhosted.org/packages/4e/35/11749bf99b2d4e3cceb4d55ca22590b0d7c2c62b9de38ac4a4a7f4687421/gast-0.2.2.tar.gz\n",
      "Requirement already satisfied: numpy>=1.13.3 in /opt/anaconda3/lib/python3.7/site-packages (from tensorflow) (1.16.3)\n",
      "Requirement already satisfied: h5py in /opt/anaconda3/lib/python3.7/site-packages (from keras-applications>=1.0.6->tensorflow) (2.8.0)\n",
      "Requirement already satisfied: setuptools in /opt/anaconda3/lib/python3.7/site-packages (from protobuf>=3.6.1->tensorflow) (40.6.3)\n",
      "Requirement already satisfied: mock>=2.0.0 in /opt/anaconda3/lib/python3.7/site-packages (from tensorflow-estimator<1.14.0rc0,>=1.13.0->tensorflow) (2.0.0)\n",
      "Requirement already satisfied: werkzeug>=0.11.15 in /opt/anaconda3/lib/python3.7/site-packages (from tensorboard<1.14.0,>=1.13.0->tensorflow) (0.14.1)\n",
      "Requirement already satisfied: markdown>=2.6.8 in /opt/anaconda3/lib/python3.7/site-packages (from tensorboard<1.14.0,>=1.13.0->tensorflow) (3.1)\n",
      "Requirement already satisfied: pbr>=0.11 in /opt/anaconda3/lib/python3.7/site-packages (from mock>=2.0.0->tensorflow-estimator<1.14.0rc0,>=1.13.0->tensorflow) (5.1.3)\n",
      "Building wheels for collected packages: termcolor, gast\n",
      "  Running setup.py bdist_wheel for termcolor ... \u001b[?25ldone\n",
      "\u001b[?25h  Stored in directory: /home/jupyter/.cache/pip/wheels/7c/06/54/bc84598ba1daf8f970247f550b175aaaee85f68b4b0c5ab2c6\n",
      "  Running setup.py bdist_wheel for gast ... \u001b[?25ldone\n",
      "\u001b[?25h  Stored in directory: /home/jupyter/.cache/pip/wheels/5c/2e/7e/a1d4d4fcebe6c381f378ce7743a3ced3699feb89bcfbdadadd\n",
      "Successfully built termcolor gast\n",
      "Installing collected packages: keras-applications, keras-preprocessing, termcolor, astor, tensorflow-estimator, gast, tensorflow\n",
      "Successfully installed astor-0.7.1 gast-0.2.2 keras-applications-1.0.7 keras-preprocessing-1.0.9 tensorflow-1.13.1 tensorflow-estimator-1.13.0 termcolor-1.1.0\n"
     ]
    }
   ],
   "source": [
    "!pip install tensorboard\n",
    "!pip install tensorflow\n"
   ]
  },
  {
   "cell_type": "code",
   "execution_count": null,
   "metadata": {},
   "outputs": [],
   "source": []
  }
 ],
 "metadata": {
  "accelerator": "GPU",
  "colab": {
   "collapsed_sections": [],
   "name": "crnn-audio-classification - UrbanSound8k.ipynb",
   "provenance": [],
   "version": "0.3.2"
  },
  "kernelspec": {
   "display_name": "Python 3",
   "language": "python",
   "name": "python3"
  },
  "language_info": {
   "codemirror_mode": {
    "name": "ipython",
    "version": 3
   },
   "file_extension": ".py",
   "mimetype": "text/x-python",
   "name": "python",
   "nbconvert_exporter": "python",
   "pygments_lexer": "ipython3",
   "version": "3.7.1"
  }
 },
 "nbformat": 4,
 "nbformat_minor": 2
}
